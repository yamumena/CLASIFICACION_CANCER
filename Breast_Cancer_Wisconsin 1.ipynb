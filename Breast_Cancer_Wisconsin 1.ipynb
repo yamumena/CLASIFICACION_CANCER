{
 "cells": [
  {
   "cell_type": "markdown",
   "metadata": {
    "id": "F-vDNc4QZ_HG"
   },
   "source": [
    "# Clasificación de tumores de mama\n"
   ]
  },
  {
   "cell_type": "code",
   "execution_count": 1,
   "metadata": {
    "colab": {
     "base_uri": "https://localhost:8080/"
    },
    "id": "TU_tPii-CvBn",
    "outputId": "0e530dd9-c1a8-49d7-d860-46584cb25a12"
   },
   "outputs": [
    {
     "name": "stdout",
     "output_type": "stream",
     "text": [
      "Defaulting to user installation because normal site-packages is not writeable\n",
      "Requirement already satisfied: ucimlrepo in c:\\users\\yamum\\appdata\\roaming\\python\\python311\\site-packages (0.0.7)\n",
      "Requirement already satisfied: pandas>=1.0.0 in c:\\programdata\\anaconda3\\lib\\site-packages (from ucimlrepo) (2.1.4)\n",
      "Requirement already satisfied: certifi>=2020.12.5 in c:\\programdata\\anaconda3\\lib\\site-packages (from ucimlrepo) (2024.2.2)\n",
      "Requirement already satisfied: numpy<2,>=1.23.2 in c:\\programdata\\anaconda3\\lib\\site-packages (from pandas>=1.0.0->ucimlrepo) (1.26.4)\n",
      "Requirement already satisfied: python-dateutil>=2.8.2 in c:\\programdata\\anaconda3\\lib\\site-packages (from pandas>=1.0.0->ucimlrepo) (2.8.2)\n",
      "Requirement already satisfied: pytz>=2020.1 in c:\\programdata\\anaconda3\\lib\\site-packages (from pandas>=1.0.0->ucimlrepo) (2023.3.post1)\n",
      "Requirement already satisfied: tzdata>=2022.1 in c:\\programdata\\anaconda3\\lib\\site-packages (from pandas>=1.0.0->ucimlrepo) (2023.3)\n",
      "Requirement already satisfied: six>=1.5 in c:\\programdata\\anaconda3\\lib\\site-packages (from python-dateutil>=2.8.2->pandas>=1.0.0->ucimlrepo) (1.16.0)\n",
      "Note: you may need to restart the kernel to use updated packages.\n"
     ]
    }
   ],
   "source": [
    "pip install ucimlrepo"
   ]
  },
  {
   "cell_type": "markdown",
   "metadata": {},
   "source": [
    "## **1. Obteniendo el Dataframe**"
   ]
  },
  {
   "cell_type": "code",
   "execution_count": 2,
   "metadata": {},
   "outputs": [],
   "source": [
    "# Carga de librerías y lectura del archivo que contiene los datos\n",
    "\n",
    "import numpy as np\n",
    "import pandas as pd\n",
    "import sklearn as sk\n",
    "import seaborn as sns\n",
    "import matplotlib.pyplot as plt\n",
    "from ucimlrepo import fetch_ucirepo\n"
   ]
  },
  {
   "cell_type": "code",
   "execution_count": 3,
   "metadata": {
    "id": "UJAoETnlZ_HI"
   },
   "outputs": [],
   "source": [
    "\n",
    "# Descargar datos id 15\n",
    "df_0= fetch_ucirepo(id=15)\n",
    "# - Es un archivo dotdict \n",
    "\n",
    "# Extracción de caracteristicas y etiquetas a partir de la clave \"data\"\n",
    "\n",
    "X = df_0.data.features\n",
    "Y = df_0.data.targets\n",
    "\n",
    "# Concatenando Dataframes\n",
    "df = pd.concat([X, Y], axis=1)\n"
   ]
  },
  {
   "cell_type": "markdown",
   "metadata": {
    "id": "qPyKc9kAOx5z"
   },
   "source": [
    "## **2. EDA**\n",
    "### **2.1. Sondeo inicial de la base de datos**\n",
    "\n",
    "#### Información a partir de \"Variables\"\n",
    "\n",
    "A continuación, se explora inicialmente el conjunto de datos df_0, utilizando el atributo variables proporcionado por los creadores de la base de datos. Este atributo contiene información descriptiva sobre la estructura y las características de los datos en df_0."
   ]
  },
  {
   "cell_type": "code",
   "execution_count": 4,
   "metadata": {},
   "outputs": [
    {
     "name": "stdout",
     "output_type": "stream",
     "text": [
      "                           name     role         type demographic  \\\n",
      "0            Sample_code_number       ID  Categorical        None   \n",
      "1               Clump_thickness  Feature      Integer        None   \n",
      "2       Uniformity_of_cell_size  Feature      Integer        None   \n",
      "3      Uniformity_of_cell_shape  Feature      Integer        None   \n",
      "4             Marginal_adhesion  Feature      Integer        None   \n",
      "5   Single_epithelial_cell_size  Feature      Integer        None   \n",
      "6                   Bare_nuclei  Feature      Integer        None   \n",
      "7               Bland_chromatin  Feature      Integer        None   \n",
      "8               Normal_nucleoli  Feature      Integer        None   \n",
      "9                       Mitoses  Feature      Integer        None   \n",
      "10                        Class   Target       Binary        None   \n",
      "\n",
      "                  description units missing_values  \n",
      "0                        None  None             no  \n",
      "1                        None  None             no  \n",
      "2                        None  None             no  \n",
      "3                        None  None             no  \n",
      "4                        None  None             no  \n",
      "5                        None  None             no  \n",
      "6                        None  None            yes  \n",
      "7                        None  None             no  \n",
      "8                        None  None             no  \n",
      "9                        None  None             no  \n",
      "10  2 = benign, 4 = malignant  None             no  \n"
     ]
    }
   ],
   "source": [
    "print(df_0.variables)"
   ]
  },
  {
   "cell_type": "markdown",
   "metadata": {},
   "source": [
    "Con base en la información anterior, se identifica lo siguiente:\n",
    "\n",
    "* Existencia de Sample_code_number que corresponde a el ID de los registros.\n",
    "* 9 atributos que son tipo integer o numérico.\n",
    "* Una columna tipo binario designada como el target.\n",
    "* Se proporciona información significativa acerca de la interpretación de cada valor binario en el target, donde 2 representa 'benign' y 4 representa 'malignant'.\n",
    "* Presencia de missing values para la variable Bare_nuclei."
   ]
  },
  {
   "cell_type": "markdown",
   "metadata": {},
   "source": [
    "#### Información a partir del Dataframe df\n",
    "\n",
    "A continuación se extrae información directamente del Dataframe."
   ]
  },
  {
   "cell_type": "code",
   "execution_count": 5,
   "metadata": {},
   "outputs": [
    {
     "name": "stdout",
     "output_type": "stream",
     "text": [
      "<class 'pandas.core.frame.DataFrame'>\n",
      "RangeIndex: 699 entries, 0 to 698\n",
      "Data columns (total 10 columns):\n",
      " #   Column                       Non-Null Count  Dtype  \n",
      "---  ------                       --------------  -----  \n",
      " 0   Clump_thickness              699 non-null    int64  \n",
      " 1   Uniformity_of_cell_size      699 non-null    int64  \n",
      " 2   Uniformity_of_cell_shape     699 non-null    int64  \n",
      " 3   Marginal_adhesion            699 non-null    int64  \n",
      " 4   Single_epithelial_cell_size  699 non-null    int64  \n",
      " 5   Bare_nuclei                  683 non-null    float64\n",
      " 6   Bland_chromatin              699 non-null    int64  \n",
      " 7   Normal_nucleoli              699 non-null    int64  \n",
      " 8   Mitoses                      699 non-null    int64  \n",
      " 9   Class                        699 non-null    int64  \n",
      "dtypes: float64(1), int64(9)\n",
      "memory usage: 54.7 KB\n"
     ]
    }
   ],
   "source": [
    "# Sondeo general\n",
    "df.info()"
   ]
  },
  {
   "cell_type": "code",
   "execution_count": 6,
   "metadata": {},
   "outputs": [
    {
     "name": "stdout",
     "output_type": "stream",
     "text": [
      "Valores únicos 'Clump_thickness': [ 1  2  3  4  5  6  7  8  9 10]\n",
      "Valores únicos 'Uniformity_of_cell_size': [ 1  2  3  4  5  6  7  8  9 10]\n",
      "Valores únicos 'Uniformity_of_cell_shape': [ 1  2  3  4  5  6  7  8  9 10]\n",
      "Valores únicos 'Marginal_adhesion': [ 1  2  3  4  5  6  7  8  9 10]\n",
      "Valores únicos 'Single_epithelial_cell_size': [ 1  2  3  4  5  6  7  8  9 10]\n",
      "Valores únicos 'Bare_nuclei': [ 1.  2.  3.  4.  5.  6.  7.  8.  9. 10. nan]\n",
      "Valores únicos 'Bland_chromatin': [ 1  2  3  4  5  6  7  8  9 10]\n",
      "Valores únicos 'Normal_nucleoli': [ 1  2  3  4  5  6  7  8  9 10]\n",
      "Valores únicos 'Mitoses': [ 1  2  3  4  5  6  7  8 10]\n",
      "Valores únicos 'Class': [2 4]\n"
     ]
    }
   ],
   "source": [
    "# Valores únicos de cada variable \n",
    "for i in df.columns:\n",
    "    v_u = np.unique(df[i])\n",
    "    print(f\"Valores únicos '{i}': {v_u}\")"
   ]
  },
  {
   "cell_type": "code",
   "execution_count": 7,
   "metadata": {
    "colab": {
     "base_uri": "https://localhost:8080/",
     "height": 226
    },
    "id": "PUIoaiXpPckI",
    "outputId": "bd52da1d-959e-43b4-ba93-d240415b2fe4"
   },
   "outputs": [
    {
     "data": {
      "text/html": [
       "<div>\n",
       "<style scoped>\n",
       "    .dataframe tbody tr th:only-of-type {\n",
       "        vertical-align: middle;\n",
       "    }\n",
       "\n",
       "    .dataframe tbody tr th {\n",
       "        vertical-align: top;\n",
       "    }\n",
       "\n",
       "    .dataframe thead th {\n",
       "        text-align: right;\n",
       "    }\n",
       "</style>\n",
       "<table border=\"1\" class=\"dataframe\">\n",
       "  <thead>\n",
       "    <tr style=\"text-align: right;\">\n",
       "      <th></th>\n",
       "      <th>Clump_thickness</th>\n",
       "      <th>Uniformity_of_cell_size</th>\n",
       "      <th>Uniformity_of_cell_shape</th>\n",
       "      <th>Marginal_adhesion</th>\n",
       "      <th>Single_epithelial_cell_size</th>\n",
       "      <th>Bare_nuclei</th>\n",
       "      <th>Bland_chromatin</th>\n",
       "      <th>Normal_nucleoli</th>\n",
       "      <th>Mitoses</th>\n",
       "      <th>Class</th>\n",
       "    </tr>\n",
       "  </thead>\n",
       "  <tbody>\n",
       "    <tr>\n",
       "      <th>0</th>\n",
       "      <td>5</td>\n",
       "      <td>1</td>\n",
       "      <td>1</td>\n",
       "      <td>1</td>\n",
       "      <td>2</td>\n",
       "      <td>1.0</td>\n",
       "      <td>3</td>\n",
       "      <td>1</td>\n",
       "      <td>1</td>\n",
       "      <td>2</td>\n",
       "    </tr>\n",
       "    <tr>\n",
       "      <th>1</th>\n",
       "      <td>5</td>\n",
       "      <td>4</td>\n",
       "      <td>4</td>\n",
       "      <td>5</td>\n",
       "      <td>7</td>\n",
       "      <td>10.0</td>\n",
       "      <td>3</td>\n",
       "      <td>2</td>\n",
       "      <td>1</td>\n",
       "      <td>2</td>\n",
       "    </tr>\n",
       "    <tr>\n",
       "      <th>2</th>\n",
       "      <td>3</td>\n",
       "      <td>1</td>\n",
       "      <td>1</td>\n",
       "      <td>1</td>\n",
       "      <td>2</td>\n",
       "      <td>2.0</td>\n",
       "      <td>3</td>\n",
       "      <td>1</td>\n",
       "      <td>1</td>\n",
       "      <td>2</td>\n",
       "    </tr>\n",
       "    <tr>\n",
       "      <th>3</th>\n",
       "      <td>6</td>\n",
       "      <td>8</td>\n",
       "      <td>8</td>\n",
       "      <td>1</td>\n",
       "      <td>3</td>\n",
       "      <td>4.0</td>\n",
       "      <td>3</td>\n",
       "      <td>7</td>\n",
       "      <td>1</td>\n",
       "      <td>2</td>\n",
       "    </tr>\n",
       "    <tr>\n",
       "      <th>4</th>\n",
       "      <td>4</td>\n",
       "      <td>1</td>\n",
       "      <td>1</td>\n",
       "      <td>3</td>\n",
       "      <td>2</td>\n",
       "      <td>1.0</td>\n",
       "      <td>3</td>\n",
       "      <td>1</td>\n",
       "      <td>1</td>\n",
       "      <td>2</td>\n",
       "    </tr>\n",
       "  </tbody>\n",
       "</table>\n",
       "</div>"
      ],
      "text/plain": [
       "   Clump_thickness  Uniformity_of_cell_size  Uniformity_of_cell_shape  \\\n",
       "0                5                        1                         1   \n",
       "1                5                        4                         4   \n",
       "2                3                        1                         1   \n",
       "3                6                        8                         8   \n",
       "4                4                        1                         1   \n",
       "\n",
       "   Marginal_adhesion  Single_epithelial_cell_size  Bare_nuclei  \\\n",
       "0                  1                            2          1.0   \n",
       "1                  5                            7         10.0   \n",
       "2                  1                            2          2.0   \n",
       "3                  1                            3          4.0   \n",
       "4                  3                            2          1.0   \n",
       "\n",
       "   Bland_chromatin  Normal_nucleoli  Mitoses  Class  \n",
       "0                3                1        1      2  \n",
       "1                3                2        1      2  \n",
       "2                3                1        1      2  \n",
       "3                3                7        1      2  \n",
       "4                3                1        1      2  "
      ]
     },
     "execution_count": 7,
     "metadata": {},
     "output_type": "execute_result"
    }
   ],
   "source": [
    "# Vista inicial\n",
    "df.head()"
   ]
  },
  {
   "cell_type": "markdown",
   "metadata": {
    "id": "4KW5rUnjSQY1"
   },
   "source": [
    "Con base en las tablas anteriores, se identifica lo siguiente:\n",
    "\n",
    "* 9 de las variables son tipo int64 y una (Bare_nuclei) es float64.\n",
    "* Al observar los primeros registros de Bare_nuclei y los valores unicos, se nota que en realidad son tipo int solo que tienen la presencia del punto.\n",
    "* Los valores unicos para cada variable van de 1 a 10 y al observar la naturaleza y el nombre de estas se considera que son variables categoricas ordinales.\n",
    "* Se observa la presencia de valores NAN en la variable Bare_nuclei.\n",
    "* Hay 699 registros, 9 variables y la columna del target.\n",
    "  "
   ]
  },
  {
   "cell_type": "markdown",
   "metadata": {
    "id": "t4vUf8KhV5tm"
   },
   "source": [
    "### **2.2. Medidas de tendencia central y desviación**\n",
    "\n",
    "A continuación, se presenta un resumen estadístico que calcula medidas de centralidad y desviación. El objetivo es obtener información clave sobre la distribución y variabilidad de los datos."
   ]
  },
  {
   "cell_type": "code",
   "execution_count": 8,
   "metadata": {},
   "outputs": [
    {
     "data": {
      "text/html": [
       "<div>\n",
       "<style scoped>\n",
       "    .dataframe tbody tr th:only-of-type {\n",
       "        vertical-align: middle;\n",
       "    }\n",
       "\n",
       "    .dataframe tbody tr th {\n",
       "        vertical-align: top;\n",
       "    }\n",
       "\n",
       "    .dataframe thead th {\n",
       "        text-align: right;\n",
       "    }\n",
       "</style>\n",
       "<table border=\"1\" class=\"dataframe\">\n",
       "  <thead>\n",
       "    <tr style=\"text-align: right;\">\n",
       "      <th></th>\n",
       "      <th>Clump_thickness</th>\n",
       "      <th>Uniformity_of_cell_size</th>\n",
       "      <th>Uniformity_of_cell_shape</th>\n",
       "      <th>Marginal_adhesion</th>\n",
       "      <th>Single_epithelial_cell_size</th>\n",
       "      <th>Bare_nuclei</th>\n",
       "      <th>Bland_chromatin</th>\n",
       "      <th>Normal_nucleoli</th>\n",
       "      <th>Mitoses</th>\n",
       "      <th>Class</th>\n",
       "    </tr>\n",
       "  </thead>\n",
       "  <tbody>\n",
       "    <tr>\n",
       "      <th>0</th>\n",
       "      <td>1</td>\n",
       "      <td>1</td>\n",
       "      <td>1</td>\n",
       "      <td>1</td>\n",
       "      <td>2</td>\n",
       "      <td>1.0</td>\n",
       "      <td>2</td>\n",
       "      <td>1</td>\n",
       "      <td>1</td>\n",
       "      <td>2</td>\n",
       "    </tr>\n",
       "  </tbody>\n",
       "</table>\n",
       "</div>"
      ],
      "text/plain": [
       "   Clump_thickness  Uniformity_of_cell_size  Uniformity_of_cell_shape  \\\n",
       "0                1                        1                         1   \n",
       "\n",
       "   Marginal_adhesion  Single_epithelial_cell_size  Bare_nuclei  \\\n",
       "0                  1                            2          1.0   \n",
       "\n",
       "   Bland_chromatin  Normal_nucleoli  Mitoses  Class  \n",
       "0                2                1        1      2  "
      ]
     },
     "execution_count": 8,
     "metadata": {},
     "output_type": "execute_result"
    }
   ],
   "source": [
    "df.mode()"
   ]
  },
  {
   "cell_type": "code",
   "execution_count": 9,
   "metadata": {
    "colab": {
     "base_uri": "https://localhost:8080/",
     "height": 320
    },
    "id": "t2u4jkkvZ_HK",
    "outputId": "a45f09aa-3279-4284-809f-31523a37de88"
   },
   "outputs": [
    {
     "data": {
      "text/html": [
       "<div>\n",
       "<style scoped>\n",
       "    .dataframe tbody tr th:only-of-type {\n",
       "        vertical-align: middle;\n",
       "    }\n",
       "\n",
       "    .dataframe tbody tr th {\n",
       "        vertical-align: top;\n",
       "    }\n",
       "\n",
       "    .dataframe thead th {\n",
       "        text-align: right;\n",
       "    }\n",
       "</style>\n",
       "<table border=\"1\" class=\"dataframe\">\n",
       "  <thead>\n",
       "    <tr style=\"text-align: right;\">\n",
       "      <th></th>\n",
       "      <th>Clump_thickness</th>\n",
       "      <th>Uniformity_of_cell_size</th>\n",
       "      <th>Uniformity_of_cell_shape</th>\n",
       "      <th>Marginal_adhesion</th>\n",
       "      <th>Single_epithelial_cell_size</th>\n",
       "      <th>Bare_nuclei</th>\n",
       "      <th>Bland_chromatin</th>\n",
       "      <th>Normal_nucleoli</th>\n",
       "      <th>Mitoses</th>\n",
       "      <th>Class</th>\n",
       "    </tr>\n",
       "  </thead>\n",
       "  <tbody>\n",
       "    <tr>\n",
       "      <th>count</th>\n",
       "      <td>699.000000</td>\n",
       "      <td>699.000000</td>\n",
       "      <td>699.000000</td>\n",
       "      <td>699.000000</td>\n",
       "      <td>699.000000</td>\n",
       "      <td>683.000000</td>\n",
       "      <td>699.000000</td>\n",
       "      <td>699.000000</td>\n",
       "      <td>699.000000</td>\n",
       "      <td>699.000000</td>\n",
       "    </tr>\n",
       "    <tr>\n",
       "      <th>mean</th>\n",
       "      <td>4.417740</td>\n",
       "      <td>3.134478</td>\n",
       "      <td>3.207439</td>\n",
       "      <td>2.806867</td>\n",
       "      <td>3.216023</td>\n",
       "      <td>3.544656</td>\n",
       "      <td>3.437768</td>\n",
       "      <td>2.866953</td>\n",
       "      <td>1.589413</td>\n",
       "      <td>2.689557</td>\n",
       "    </tr>\n",
       "    <tr>\n",
       "      <th>std</th>\n",
       "      <td>2.815741</td>\n",
       "      <td>3.051459</td>\n",
       "      <td>2.971913</td>\n",
       "      <td>2.855379</td>\n",
       "      <td>2.214300</td>\n",
       "      <td>3.643857</td>\n",
       "      <td>2.438364</td>\n",
       "      <td>3.053634</td>\n",
       "      <td>1.715078</td>\n",
       "      <td>0.951273</td>\n",
       "    </tr>\n",
       "    <tr>\n",
       "      <th>min</th>\n",
       "      <td>1.000000</td>\n",
       "      <td>1.000000</td>\n",
       "      <td>1.000000</td>\n",
       "      <td>1.000000</td>\n",
       "      <td>1.000000</td>\n",
       "      <td>1.000000</td>\n",
       "      <td>1.000000</td>\n",
       "      <td>1.000000</td>\n",
       "      <td>1.000000</td>\n",
       "      <td>2.000000</td>\n",
       "    </tr>\n",
       "    <tr>\n",
       "      <th>25%</th>\n",
       "      <td>2.000000</td>\n",
       "      <td>1.000000</td>\n",
       "      <td>1.000000</td>\n",
       "      <td>1.000000</td>\n",
       "      <td>2.000000</td>\n",
       "      <td>1.000000</td>\n",
       "      <td>2.000000</td>\n",
       "      <td>1.000000</td>\n",
       "      <td>1.000000</td>\n",
       "      <td>2.000000</td>\n",
       "    </tr>\n",
       "    <tr>\n",
       "      <th>50%</th>\n",
       "      <td>4.000000</td>\n",
       "      <td>1.000000</td>\n",
       "      <td>1.000000</td>\n",
       "      <td>1.000000</td>\n",
       "      <td>2.000000</td>\n",
       "      <td>1.000000</td>\n",
       "      <td>3.000000</td>\n",
       "      <td>1.000000</td>\n",
       "      <td>1.000000</td>\n",
       "      <td>2.000000</td>\n",
       "    </tr>\n",
       "    <tr>\n",
       "      <th>75%</th>\n",
       "      <td>6.000000</td>\n",
       "      <td>5.000000</td>\n",
       "      <td>5.000000</td>\n",
       "      <td>4.000000</td>\n",
       "      <td>4.000000</td>\n",
       "      <td>6.000000</td>\n",
       "      <td>5.000000</td>\n",
       "      <td>4.000000</td>\n",
       "      <td>1.000000</td>\n",
       "      <td>4.000000</td>\n",
       "    </tr>\n",
       "    <tr>\n",
       "      <th>max</th>\n",
       "      <td>10.000000</td>\n",
       "      <td>10.000000</td>\n",
       "      <td>10.000000</td>\n",
       "      <td>10.000000</td>\n",
       "      <td>10.000000</td>\n",
       "      <td>10.000000</td>\n",
       "      <td>10.000000</td>\n",
       "      <td>10.000000</td>\n",
       "      <td>10.000000</td>\n",
       "      <td>4.000000</td>\n",
       "    </tr>\n",
       "  </tbody>\n",
       "</table>\n",
       "</div>"
      ],
      "text/plain": [
       "       Clump_thickness  Uniformity_of_cell_size  Uniformity_of_cell_shape  \\\n",
       "count       699.000000               699.000000                699.000000   \n",
       "mean          4.417740                 3.134478                  3.207439   \n",
       "std           2.815741                 3.051459                  2.971913   \n",
       "min           1.000000                 1.000000                  1.000000   \n",
       "25%           2.000000                 1.000000                  1.000000   \n",
       "50%           4.000000                 1.000000                  1.000000   \n",
       "75%           6.000000                 5.000000                  5.000000   \n",
       "max          10.000000                10.000000                 10.000000   \n",
       "\n",
       "       Marginal_adhesion  Single_epithelial_cell_size  Bare_nuclei  \\\n",
       "count         699.000000                   699.000000   683.000000   \n",
       "mean            2.806867                     3.216023     3.544656   \n",
       "std             2.855379                     2.214300     3.643857   \n",
       "min             1.000000                     1.000000     1.000000   \n",
       "25%             1.000000                     2.000000     1.000000   \n",
       "50%             1.000000                     2.000000     1.000000   \n",
       "75%             4.000000                     4.000000     6.000000   \n",
       "max            10.000000                    10.000000    10.000000   \n",
       "\n",
       "       Bland_chromatin  Normal_nucleoli     Mitoses       Class  \n",
       "count       699.000000       699.000000  699.000000  699.000000  \n",
       "mean          3.437768         2.866953    1.589413    2.689557  \n",
       "std           2.438364         3.053634    1.715078    0.951273  \n",
       "min           1.000000         1.000000    1.000000    2.000000  \n",
       "25%           2.000000         1.000000    1.000000    2.000000  \n",
       "50%           3.000000         1.000000    1.000000    2.000000  \n",
       "75%           5.000000         4.000000    1.000000    4.000000  \n",
       "max          10.000000        10.000000   10.000000    4.000000  "
      ]
     },
     "execution_count": 9,
     "metadata": {},
     "output_type": "execute_result"
    }
   ],
   "source": [
    "df.describe()"
   ]
  },
  {
   "cell_type": "markdown",
   "metadata": {
    "id": "DHtHIfbnXb5p"
   },
   "source": [
    "A partir de la información anterior se realizan las sigueintes observaciones:\n",
    "\n",
    "* En relación con la media, la desviación estandar y el valor max y min se sugiere que existe una dispersión en los datos, indicando que los valores están esparcidos alrededor de la media y no son tan consistentes.\n",
    "* Respecto a la moda se puede inferir que la mayoria tendran una distribucion con cola larga hacia la derecha.\n",
    "* Para cinco de las variables, se observa que la desviación estándar es menor que la media. Esta particularidad sugiere que, para estos atributos, la distribución de los datos es más concentrada, y hay menos dispersión entre los valores.\n",
    "* Aproximadamente el 74% de los registros para cada variable está por debajo de 6, 5, 4 o 1, esto muestra que hay pocos valores en cada caso con valores cercanos a 10.\n",
    "\n"
   ]
  },
  {
   "cell_type": "markdown",
   "metadata": {
    "id": "HWWVyRXmlxxJ"
   },
   "source": [
    "### **2.3. Tratamiento de valores nulos**\n",
    "\n",
    "\n",
    "A continuación, se procede a identificar la cantidad de valores nulos presentes en la columna 'Bare_nuclei'. Esta información es esencial para determinar el tratamiento más adecuado que se debe aplicar a estos valores faltantes."
   ]
  },
  {
   "cell_type": "code",
   "execution_count": 10,
   "metadata": {
    "colab": {
     "base_uri": "https://localhost:8080/"
    },
    "id": "e-uhM169mQ6R",
    "outputId": "ac1965c9-c79f-4717-a186-2aa7482c73f7"
   },
   "outputs": [
    {
     "data": {
      "text/plain": [
       "Clump_thickness                 0\n",
       "Uniformity_of_cell_size         0\n",
       "Uniformity_of_cell_shape        0\n",
       "Marginal_adhesion               0\n",
       "Single_epithelial_cell_size     0\n",
       "Bare_nuclei                    16\n",
       "Bland_chromatin                 0\n",
       "Normal_nucleoli                 0\n",
       "Mitoses                         0\n",
       "Class                           0\n",
       "dtype: int64"
      ]
     },
     "execution_count": 10,
     "metadata": {},
     "output_type": "execute_result"
    }
   ],
   "source": [
    "# Cantidad de valores faltantres por cada atributo\n",
    "df.isnull().sum()"
   ]
  },
  {
   "cell_type": "markdown",
   "metadata": {
    "id": "pDO4kjChmZSj"
   },
   "source": [
    "* Se confirma que el único atributo con valores faltantes es 'Bare_nuclei', presentando un total de 16 valores nulos.\n",
    "* Solo el 2.29% de los datos en esa columna son nulos o faltantes.\n",
    "* Ya que el porcentaje de valores faltantes es bajo, una opción sencilla es imputar los valores nulos con la moda."
   ]
  },
  {
   "cell_type": "code",
   "execution_count": 11,
   "metadata": {
    "id": "9TThQosSpWvE"
   },
   "outputs": [],
   "source": [
    "# Imputación con moda de 'Bare_nuclei'\n",
    "m = df['Bare_nuclei'].mode()[0] \n",
    "df['Bare_nuclei'].fillna(m, inplace=True) \n",
    "\n",
    "# Cambio de tipo float de Bare_nuclei a tipo int\n",
    "df['Bare_nuclei'] = df['Bare_nuclei'].astype(int)\n"
   ]
  },
  {
   "cell_type": "markdown",
   "metadata": {
    "id": "Lb3XM3edg9Uy"
   },
   "source": [
    "### **2.4. Diagrama de bigotes**\n"
   ]
  },
  {
   "cell_type": "code",
   "execution_count": 12,
   "metadata": {
    "colab": {
     "base_uri": "https://localhost:8080/",
     "height": 430
    },
    "id": "OmmyXMR8Z_HK",
    "outputId": "2e7eed51-8cf4-4700-ef55-08db2856fffc"
   },
   "outputs": [
    {
     "data": {
      "image/png": "[encoded data removed]",
      "text/plain": [
       "<Figure size 640x480 with 1 Axes>"
      ]
     },
     "metadata": {},
     "output_type": "display_data"
    }
   ],
   "source": [
    "# Diagrama de cajas y bigotes para atributos numéricos\n",
    "# Permite identificar la existencia de datos atípicos\n",
    "\n",
    "plt.boxplot(df)\n",
    "plt.show()"
   ]
  },
  {
   "cell_type": "markdown",
   "metadata": {
    "id": "Ods-sEj1r11Z"
   },
   "source": [
    "A partir del análisis de los diagramas de caja anteriores, se pueden realizar varias observaciones sobre la distribución de los datos en los diferentes atributos:\n",
    "\n",
    "* Atributos 2, 3, 4, 6 y 8:\n",
    "\n",
    "En estos atributos, el 50% de sus valores es igual a uno, y la moda también es uno. La mediana ubicada sobre uno sugiere una distribución con una cola hacia la derecha, indicando que la mayoría de los datos se concentran en valores bajos, pero hay algunos valores más altos que afectan la media y la cola de la distribución. Ademas se observa la presencia de valores atípicos en los atributos 4 y 8, concentrados en los valores 9 y 10.\n",
    "\n",
    "* Atributo 1:\n",
    "\n",
    "Este atributo muestra una distribución que se asemeja más a una distribución simétrica en comparación con otros. Aunque los bigotes no son simétricos, la mediana está ubicada en la mitad de la caja.\n",
    "\n",
    "* Atributo 9:\n",
    "\n",
    "En el caso del atributo 9, se observa una situación interesante. Aunque muestra una dispersión baja, indicando que la mayoría de sus valores se concentran alrededor de la media y la mayoria de sus valores son iguales a la mediana o basicamente la gran mayoria de sus valores es 1, se presenta una peculiaridad: la presencia de varios valores atípicos.\n",
    "\n",
    "* Atributos 5 y 7:\n",
    "\n",
    "Ambos atributos muestran una distribución con una cola más pronunciada hacia la derecha, indicando un desbalance en los valores de los datos hacia valores más altos. \n",
    "\n",
    "* Es importante destacar que en este estudio, la interpretación de los valores que podrían parecer \"atípicos\" depende significativamente del contexto y del conocimiento del dominio del problema. Ya que estos valores son posibles aunque poco frecuentes, debido a la naturaleza de las variables, las cuales son categóricas ordinales en lugar de ser continuas."
   ]
  },
  {
   "cell_type": "markdown",
   "metadata": {
    "id": "TYu0s_Wx0nsu"
   },
   "source": [
    "### **2.5. Correlacion Spearman**\n"
   ]
  },
  {
   "cell_type": "code",
   "execution_count": 13,
   "metadata": {},
   "outputs": [
    {
     "data": {
      "text/html": [
       "<div>\n",
       "<style scoped>\n",
       "    .dataframe tbody tr th:only-of-type {\n",
       "        vertical-align: middle;\n",
       "    }\n",
       "\n",
       "    .dataframe tbody tr th {\n",
       "        vertical-align: top;\n",
       "    }\n",
       "\n",
       "    .dataframe thead th {\n",
       "        text-align: right;\n",
       "    }\n",
       "</style>\n",
       "<table border=\"1\" class=\"dataframe\">\n",
       "  <thead>\n",
       "    <tr style=\"text-align: right;\">\n",
       "      <th></th>\n",
       "      <th>Clump_thickness</th>\n",
       "      <th>Uniformity_of_cell_size</th>\n",
       "      <th>Uniformity_of_cell_shape</th>\n",
       "      <th>Marginal_adhesion</th>\n",
       "      <th>Single_epithelial_cell_size</th>\n",
       "      <th>Bare_nuclei</th>\n",
       "      <th>Bland_chromatin</th>\n",
       "      <th>Normal_nucleoli</th>\n",
       "      <th>Mitoses</th>\n",
       "      <th>Class</th>\n",
       "    </tr>\n",
       "  </thead>\n",
       "  <tbody>\n",
       "    <tr>\n",
       "      <th>Clump_thickness</th>\n",
       "      <td>1.000000</td>\n",
       "      <td>0.666463</td>\n",
       "      <td>0.664121</td>\n",
       "      <td>0.541593</td>\n",
       "      <td>0.583979</td>\n",
       "      <td>0.585673</td>\n",
       "      <td>0.538093</td>\n",
       "      <td>0.570398</td>\n",
       "      <td>0.418717</td>\n",
       "      <td>0.682452</td>\n",
       "    </tr>\n",
       "    <tr>\n",
       "      <th>Uniformity_of_cell_size</th>\n",
       "      <td>0.666463</td>\n",
       "      <td>1.000000</td>\n",
       "      <td>0.891904</td>\n",
       "      <td>0.742517</td>\n",
       "      <td>0.787159</td>\n",
       "      <td>0.760558</td>\n",
       "      <td>0.719330</td>\n",
       "      <td>0.757199</td>\n",
       "      <td>0.508780</td>\n",
       "      <td>0.855487</td>\n",
       "    </tr>\n",
       "    <tr>\n",
       "      <th>Uniformity_of_cell_shape</th>\n",
       "      <td>0.664121</td>\n",
       "      <td>0.891904</td>\n",
       "      <td>1.000000</td>\n",
       "      <td>0.711730</td>\n",
       "      <td>0.759234</td>\n",
       "      <td>0.740620</td>\n",
       "      <td>0.692316</td>\n",
       "      <td>0.725268</td>\n",
       "      <td>0.472749</td>\n",
       "      <td>0.836394</td>\n",
       "    </tr>\n",
       "    <tr>\n",
       "      <th>Marginal_adhesion</th>\n",
       "      <td>0.541593</td>\n",
       "      <td>0.742517</td>\n",
       "      <td>0.711730</td>\n",
       "      <td>1.000000</td>\n",
       "      <td>0.667809</td>\n",
       "      <td>0.693674</td>\n",
       "      <td>0.624515</td>\n",
       "      <td>0.634310</td>\n",
       "      <td>0.446992</td>\n",
       "      <td>0.727995</td>\n",
       "    </tr>\n",
       "    <tr>\n",
       "      <th>Single_epithelial_cell_size</th>\n",
       "      <td>0.583979</td>\n",
       "      <td>0.787159</td>\n",
       "      <td>0.759234</td>\n",
       "      <td>0.667809</td>\n",
       "      <td>1.000000</td>\n",
       "      <td>0.688988</td>\n",
       "      <td>0.639507</td>\n",
       "      <td>0.705997</td>\n",
       "      <td>0.480255</td>\n",
       "      <td>0.762731</td>\n",
       "    </tr>\n",
       "    <tr>\n",
       "      <th>Bare_nuclei</th>\n",
       "      <td>0.585673</td>\n",
       "      <td>0.760558</td>\n",
       "      <td>0.740620</td>\n",
       "      <td>0.693674</td>\n",
       "      <td>0.688988</td>\n",
       "      <td>1.000000</td>\n",
       "      <td>0.669132</td>\n",
       "      <td>0.649397</td>\n",
       "      <td>0.478049</td>\n",
       "      <td>0.830774</td>\n",
       "    </tr>\n",
       "    <tr>\n",
       "      <th>Bland_chromatin</th>\n",
       "      <td>0.538093</td>\n",
       "      <td>0.719330</td>\n",
       "      <td>0.692316</td>\n",
       "      <td>0.624515</td>\n",
       "      <td>0.639507</td>\n",
       "      <td>0.669132</td>\n",
       "      <td>1.000000</td>\n",
       "      <td>0.662309</td>\n",
       "      <td>0.386944</td>\n",
       "      <td>0.740350</td>\n",
       "    </tr>\n",
       "    <tr>\n",
       "      <th>Normal_nucleoli</th>\n",
       "      <td>0.570398</td>\n",
       "      <td>0.757199</td>\n",
       "      <td>0.725268</td>\n",
       "      <td>0.634310</td>\n",
       "      <td>0.705997</td>\n",
       "      <td>0.649397</td>\n",
       "      <td>0.662309</td>\n",
       "      <td>1.000000</td>\n",
       "      <td>0.504140</td>\n",
       "      <td>0.743823</td>\n",
       "    </tr>\n",
       "    <tr>\n",
       "      <th>Mitoses</th>\n",
       "      <td>0.418717</td>\n",
       "      <td>0.508780</td>\n",
       "      <td>0.472749</td>\n",
       "      <td>0.446992</td>\n",
       "      <td>0.480255</td>\n",
       "      <td>0.478049</td>\n",
       "      <td>0.386944</td>\n",
       "      <td>0.504140</td>\n",
       "      <td>1.000000</td>\n",
       "      <td>0.526766</td>\n",
       "    </tr>\n",
       "    <tr>\n",
       "      <th>Class</th>\n",
       "      <td>0.682452</td>\n",
       "      <td>0.855487</td>\n",
       "      <td>0.836394</td>\n",
       "      <td>0.727995</td>\n",
       "      <td>0.762731</td>\n",
       "      <td>0.830774</td>\n",
       "      <td>0.740350</td>\n",
       "      <td>0.743823</td>\n",
       "      <td>0.526766</td>\n",
       "      <td>1.000000</td>\n",
       "    </tr>\n",
       "  </tbody>\n",
       "</table>\n",
       "</div>"
      ],
      "text/plain": [
       "                             Clump_thickness  Uniformity_of_cell_size  \\\n",
       "Clump_thickness                     1.000000                 0.666463   \n",
       "Uniformity_of_cell_size             0.666463                 1.000000   \n",
       "Uniformity_of_cell_shape            0.664121                 0.891904   \n",
       "Marginal_adhesion                   0.541593                 0.742517   \n",
       "Single_epithelial_cell_size         0.583979                 0.787159   \n",
       "Bare_nuclei                         0.585673                 0.760558   \n",
       "Bland_chromatin                     0.538093                 0.719330   \n",
       "Normal_nucleoli                     0.570398                 0.757199   \n",
       "Mitoses                             0.418717                 0.508780   \n",
       "Class                               0.682452                 0.855487   \n",
       "\n",
       "                             Uniformity_of_cell_shape  Marginal_adhesion  \\\n",
       "Clump_thickness                              0.664121           0.541593   \n",
       "Uniformity_of_cell_size                      0.891904           0.742517   \n",
       "Uniformity_of_cell_shape                     1.000000           0.711730   \n",
       "Marginal_adhesion                            0.711730           1.000000   \n",
       "Single_epithelial_cell_size                  0.759234           0.667809   \n",
       "Bare_nuclei                                  0.740620           0.693674   \n",
       "Bland_chromatin                              0.692316           0.624515   \n",
       "Normal_nucleoli                              0.725268           0.634310   \n",
       "Mitoses                                      0.472749           0.446992   \n",
       "Class                                        0.836394           0.727995   \n",
       "\n",
       "                             Single_epithelial_cell_size  Bare_nuclei  \\\n",
       "Clump_thickness                                 0.583979     0.585673   \n",
       "Uniformity_of_cell_size                         0.787159     0.760558   \n",
       "Uniformity_of_cell_shape                        0.759234     0.740620   \n",
       "Marginal_adhesion                               0.667809     0.693674   \n",
       "Single_epithelial_cell_size                     1.000000     0.688988   \n",
       "Bare_nuclei                                     0.688988     1.000000   \n",
       "Bland_chromatin                                 0.639507     0.669132   \n",
       "Normal_nucleoli                                 0.705997     0.649397   \n",
       "Mitoses                                         0.480255     0.478049   \n",
       "Class                                           0.762731     0.830774   \n",
       "\n",
       "                             Bland_chromatin  Normal_nucleoli   Mitoses  \\\n",
       "Clump_thickness                     0.538093         0.570398  0.418717   \n",
       "Uniformity_of_cell_size             0.719330         0.757199  0.508780   \n",
       "Uniformity_of_cell_shape            0.692316         0.725268  0.472749   \n",
       "Marginal_adhesion                   0.624515         0.634310  0.446992   \n",
       "Single_epithelial_cell_size         0.639507         0.705997  0.480255   \n",
       "Bare_nuclei                         0.669132         0.649397  0.478049   \n",
       "Bland_chromatin                     1.000000         0.662309  0.386944   \n",
       "Normal_nucleoli                     0.662309         1.000000  0.504140   \n",
       "Mitoses                             0.386944         0.504140  1.000000   \n",
       "Class                               0.740350         0.743823  0.526766   \n",
       "\n",
       "                                Class  \n",
       "Clump_thickness              0.682452  \n",
       "Uniformity_of_cell_size      0.855487  \n",
       "Uniformity_of_cell_shape     0.836394  \n",
       "Marginal_adhesion            0.727995  \n",
       "Single_epithelial_cell_size  0.762731  \n",
       "Bare_nuclei                  0.830774  \n",
       "Bland_chromatin              0.740350  \n",
       "Normal_nucleoli              0.743823  \n",
       "Mitoses                      0.526766  \n",
       "Class                        1.000000  "
      ]
     },
     "execution_count": 13,
     "metadata": {},
     "output_type": "execute_result"
    }
   ],
   "source": [
    "from scipy.stats import spearmanr\n",
    "\n",
    "# Calcular la matriz de correlación de Spearman\n",
    "C_M = df.corr(method='spearman')\n",
    "C_M"
   ]
  },
  {
   "cell_type": "code",
   "execution_count": 14,
   "metadata": {
    "colab": {
     "base_uri": "https://localhost:8080/"
    },
    "id": "QkZqn2lK1uRt",
    "outputId": "4f9efa9e-1651-4937-8b01-0aff77e826b3"
   },
   "outputs": [
    {
     "name": "stdout",
     "output_type": "stream",
     "text": [
      "Pares de atributos correlacionados:\n",
      "{('Normal_nucleoli', 'Uniformity_of_cell_size'), ('Class', 'Uniformity_of_cell_shape'), ('Single_epithelial_cell_size', 'Uniformity_of_cell_shape'), ('Class', 'Single_epithelial_cell_size'), ('Class', 'Uniformity_of_cell_size'), ('Single_epithelial_cell_size', 'Uniformity_of_cell_size'), ('Class', 'Bare_nuclei'), ('Bare_nuclei', 'Uniformity_of_cell_size'), ('Uniformity_of_cell_shape', 'Uniformity_of_cell_size')}\n"
     ]
    }
   ],
   "source": [
    "# Umbral para la correlación alta\n",
    "U= 0.75\n",
    "\n",
    "ATRI_CORS= set()\n",
    "for i in range(len(C_M.columns)):\n",
    "    for j in range(i):\n",
    "        if abs(C_M.iloc[i, j]) > U:\n",
    "            ATRI = C_M.columns[i]\n",
    "            ATRI_COR = C_M.columns[j]\n",
    "            ATRI_CORS.add((ATRI, ATRI_COR))\n",
    "\n",
    "print(\"Pares de atributos correlacionados:\")\n",
    "print(ATRI_CORS)"
   ]
  },
  {
   "cell_type": "markdown",
   "metadata": {
    "id": "QHk3YFO-2dHW"
   },
   "source": [
    "\n",
    "Variables a eliminar:\n",
    "\n",
    "* Uniformity_of_cell_size\n",
    "* Uniformity_of_cell_shape\n",
    "\n"
   ]
  },
  {
   "cell_type": "code",
   "execution_count": 15,
   "metadata": {
    "id": "B6Ij_gn329ff"
   },
   "outputs": [],
   "source": [
    "# Eliminar variables\n",
    "df = df.drop(['Uniformity_of_cell_size', 'Uniformity_of_cell_shape'], axis=1)"
   ]
  },
  {
   "cell_type": "markdown",
   "metadata": {
    "id": "P_0pYcP0gFq8"
   },
   "source": [
    "### **2.6. Analisis de balanceo de clases**"
   ]
  },
  {
   "cell_type": "code",
   "execution_count": 16,
   "metadata": {},
   "outputs": [
    {
     "data": {
      "text/plain": [
       "Class\n",
       "2    458\n",
       "4    241\n",
       "Name: count, dtype: int64"
      ]
     },
     "execution_count": 16,
     "metadata": {},
     "output_type": "execute_result"
    }
   ],
   "source": [
    "df['Class'].value_counts()"
   ]
  },
  {
   "cell_type": "markdown",
   "metadata": {},
   "source": [
    "* Hay 458 registros para la clase \"benign\" y 241 para la clase \"malignant\". Esta diferencia considerable en la cantidad de registros resulta en un desbalance significativo, donde el 65.5 % de los registros pertenecen a la clase \"benign\" y el 34.5 % a \"malignant\". Este desbalance, en lugar de aproximarse a una distribución equitativa del 50/50, podría generar una predisposición hacia la clasificación de un registro como \"benign\".\n"
   ]
  },
  {
   "cell_type": "code",
   "execution_count": 17,
   "metadata": {
    "colab": {
     "base_uri": "https://localhost:8080/",
     "height": 475
    },
    "id": "tzucQl0-Z_HP",
    "outputId": "34418f24-d0f8-4934-d1d4-f4f06f2e11a8"
   },
   "outputs": [
    {
     "data": {
      "text/html": [
       "<div>\n",
       "<style scoped>\n",
       "    .dataframe tbody tr th:only-of-type {\n",
       "        vertical-align: middle;\n",
       "    }\n",
       "\n",
       "    .dataframe tbody tr th {\n",
       "        vertical-align: top;\n",
       "    }\n",
       "\n",
       "    .dataframe thead th {\n",
       "        text-align: right;\n",
       "    }\n",
       "</style>\n",
       "<table border=\"1\" class=\"dataframe\">\n",
       "  <thead>\n",
       "    <tr style=\"text-align: right;\">\n",
       "      <th></th>\n",
       "      <th></th>\n",
       "      <th>Clump_thickness</th>\n",
       "      <th>Marginal_adhesion</th>\n",
       "      <th>Single_epithelial_cell_size</th>\n",
       "      <th>Bare_nuclei</th>\n",
       "      <th>Bland_chromatin</th>\n",
       "      <th>Normal_nucleoli</th>\n",
       "      <th>Mitoses</th>\n",
       "      <th>Class</th>\n",
       "    </tr>\n",
       "    <tr>\n",
       "      <th>Class</th>\n",
       "      <th></th>\n",
       "      <th></th>\n",
       "      <th></th>\n",
       "      <th></th>\n",
       "      <th></th>\n",
       "      <th></th>\n",
       "      <th></th>\n",
       "      <th></th>\n",
       "      <th></th>\n",
       "    </tr>\n",
       "  </thead>\n",
       "  <tbody>\n",
       "    <tr>\n",
       "      <th rowspan=\"5\" valign=\"top\">2</th>\n",
       "      <th>0</th>\n",
       "      <td>1</td>\n",
       "      <td>1</td>\n",
       "      <td>2</td>\n",
       "      <td>1</td>\n",
       "      <td>2</td>\n",
       "      <td>1</td>\n",
       "      <td>1</td>\n",
       "      <td>2</td>\n",
       "    </tr>\n",
       "    <tr>\n",
       "      <th>1</th>\n",
       "      <td>1</td>\n",
       "      <td>1</td>\n",
       "      <td>3</td>\n",
       "      <td>1</td>\n",
       "      <td>1</td>\n",
       "      <td>1</td>\n",
       "      <td>1</td>\n",
       "      <td>2</td>\n",
       "    </tr>\n",
       "    <tr>\n",
       "      <th>2</th>\n",
       "      <td>1</td>\n",
       "      <td>1</td>\n",
       "      <td>2</td>\n",
       "      <td>1</td>\n",
       "      <td>1</td>\n",
       "      <td>1</td>\n",
       "      <td>1</td>\n",
       "      <td>2</td>\n",
       "    </tr>\n",
       "    <tr>\n",
       "      <th>3</th>\n",
       "      <td>3</td>\n",
       "      <td>3</td>\n",
       "      <td>2</td>\n",
       "      <td>3</td>\n",
       "      <td>3</td>\n",
       "      <td>1</td>\n",
       "      <td>1</td>\n",
       "      <td>2</td>\n",
       "    </tr>\n",
       "    <tr>\n",
       "      <th>4</th>\n",
       "      <td>6</td>\n",
       "      <td>1</td>\n",
       "      <td>2</td>\n",
       "      <td>1</td>\n",
       "      <td>3</td>\n",
       "      <td>1</td>\n",
       "      <td>1</td>\n",
       "      <td>2</td>\n",
       "    </tr>\n",
       "    <tr>\n",
       "      <th>...</th>\n",
       "      <th>...</th>\n",
       "      <td>...</td>\n",
       "      <td>...</td>\n",
       "      <td>...</td>\n",
       "      <td>...</td>\n",
       "      <td>...</td>\n",
       "      <td>...</td>\n",
       "      <td>...</td>\n",
       "      <td>...</td>\n",
       "    </tr>\n",
       "    <tr>\n",
       "      <th rowspan=\"5\" valign=\"top\">4</th>\n",
       "      <th>236</th>\n",
       "      <td>10</td>\n",
       "      <td>6</td>\n",
       "      <td>8</td>\n",
       "      <td>4</td>\n",
       "      <td>8</td>\n",
       "      <td>5</td>\n",
       "      <td>1</td>\n",
       "      <td>4</td>\n",
       "    </tr>\n",
       "    <tr>\n",
       "      <th>237</th>\n",
       "      <td>9</td>\n",
       "      <td>6</td>\n",
       "      <td>4</td>\n",
       "      <td>10</td>\n",
       "      <td>7</td>\n",
       "      <td>7</td>\n",
       "      <td>2</td>\n",
       "      <td>4</td>\n",
       "    </tr>\n",
       "    <tr>\n",
       "      <th>238</th>\n",
       "      <td>7</td>\n",
       "      <td>5</td>\n",
       "      <td>3</td>\n",
       "      <td>10</td>\n",
       "      <td>9</td>\n",
       "      <td>10</td>\n",
       "      <td>2</td>\n",
       "      <td>4</td>\n",
       "    </tr>\n",
       "    <tr>\n",
       "      <th>239</th>\n",
       "      <td>5</td>\n",
       "      <td>2</td>\n",
       "      <td>5</td>\n",
       "      <td>10</td>\n",
       "      <td>4</td>\n",
       "      <td>3</td>\n",
       "      <td>1</td>\n",
       "      <td>4</td>\n",
       "    </tr>\n",
       "    <tr>\n",
       "      <th>240</th>\n",
       "      <td>8</td>\n",
       "      <td>6</td>\n",
       "      <td>6</td>\n",
       "      <td>3</td>\n",
       "      <td>10</td>\n",
       "      <td>10</td>\n",
       "      <td>1</td>\n",
       "      <td>4</td>\n",
       "    </tr>\n",
       "  </tbody>\n",
       "</table>\n",
       "<p>482 rows × 8 columns</p>\n",
       "</div>"
      ],
      "text/plain": [
       "           Clump_thickness  Marginal_adhesion  Single_epithelial_cell_size  \\\n",
       "Class                                                                        \n",
       "2     0                  1                  1                            2   \n",
       "      1                  1                  1                            3   \n",
       "      2                  1                  1                            2   \n",
       "      3                  3                  3                            2   \n",
       "      4                  6                  1                            2   \n",
       "...                    ...                ...                          ...   \n",
       "4     236               10                  6                            8   \n",
       "      237                9                  6                            4   \n",
       "      238                7                  5                            3   \n",
       "      239                5                  2                            5   \n",
       "      240                8                  6                            6   \n",
       "\n",
       "           Bare_nuclei  Bland_chromatin  Normal_nucleoli  Mitoses  Class  \n",
       "Class                                                                     \n",
       "2     0              1                2                1        1      2  \n",
       "      1              1                1                1        1      2  \n",
       "      2              1                1                1        1      2  \n",
       "      3              3                3                1        1      2  \n",
       "      4              1                3                1        1      2  \n",
       "...                ...              ...              ...      ...    ...  \n",
       "4     236            4                8                5        1      4  \n",
       "      237           10                7                7        2      4  \n",
       "      238           10                9               10        2      4  \n",
       "      239           10                4                3        1      4  \n",
       "      240            3               10               10        1      4  \n",
       "\n",
       "[482 rows x 8 columns]"
      ]
     },
     "execution_count": 17,
     "metadata": {},
     "output_type": "execute_result"
    }
   ],
   "source": [
    "# Se hace balanceo de clases eliminando registros de la clase mayoritaria\n",
    "g = df.groupby('Class')\n",
    "dataBal = pd.DataFrame(g.apply(lambda x: x.sample(g.size().min()).reset_index(drop=True)))\n"
   ]
  },
  {
   "cell_type": "code",
   "execution_count": 18,
   "metadata": {
    "colab": {
     "base_uri": "https://localhost:8080/"
    },
    "id": "W6yEYRccZ_HQ",
    "outputId": "38ebd42f-751e-4bcd-e300-0756bb3a7092"
   },
   "outputs": [
    {
     "name": "stdout",
     "output_type": "stream",
     "text": [
      "Class\n",
      "2    241\n",
      "4    241\n",
      "Name: count, dtype: int64\n"
     ]
    }
   ],
   "source": [
    "# Se verifica que haya quedado el mismo número de registros por cada clase\n",
    "print(dataBal['Class'].value_counts())"
   ]
  },
  {
   "cell_type": "markdown",
   "metadata": {
    "id": "J0k2r-I8lt0M"
   },
   "source": [
    "## **3. Modelado y Validación**\n",
    "En esta etapa se van a utilizar los datos para entrenar un modelo que determine si un tumor es benigno o maligno.\n",
    "\n",
    "1.   Dividir el conjunto de datos en conjuntos de entrenamiento y test.\n",
    "2.   Realizar el entrenamiento del modelo de regresión logística utilizando para ello el conjunto de entrenamiento.\n",
    "3.   Aplicar el modelo construido a los datos del conjunto de test.\n",
    "4.   Cálculo de una métrica de desempeño para evaluar la calidad del modelo en sus prediciones sobre el conjunto de test."
   ]
  },
  {
   "cell_type": "markdown",
   "metadata": {},
   "source": [
    "### **3.1. División de los datos**"
   ]
  },
  {
   "cell_type": "code",
   "execution_count": 19,
   "metadata": {
    "colab": {
     "base_uri": "https://localhost:8080/"
    },
    "id": "YSk5R_XwZ_HQ",
    "outputId": "9a3c98b4-c566-4996-e9e4-e4739129df48"
   },
   "outputs": [
    {
     "name": "stdout",
     "output_type": "stream",
     "text": [
      "(337, 7) (337,)\n",
      "(145, 7) (145,)\n"
     ]
    }
   ],
   "source": [
    "from sklearn.model_selection import train_test_split\n",
    "\n",
    "X_train, X_test, y_train, y_test = train_test_split(dataBal.drop('Class', axis=1), dataBal.Class, test_size=0.30)\n",
    "print (X_train.shape, y_train.shape)\n",
    "print (X_test.shape, y_test.shape)"
   ]
  },
  {
   "cell_type": "markdown",
   "metadata": {
    "id": "kstBZunJNLs-"
   },
   "source": [
    "### **3.2. Entrenamiento del modelo de clasificación por regresión logistica**"
   ]
  },
  {
   "cell_type": "code",
   "execution_count": 20,
   "metadata": {
    "colab": {
     "base_uri": "https://localhost:8080/",
     "height": 75
    },
    "id": "4Y9zk4PTZ_HQ",
    "outputId": "9b5b621c-3b07-4126-dec8-c454c75db8a6"
   },
   "outputs": [
    {
     "data": {
      "text/html": [
       "<style>#sk-container-id-1 {color: black;background-color: white;}#sk-container-id-1 pre{padding: 0;}#sk-container-id-1 div.sk-toggleable {background-color: white;}#sk-container-id-1 label.sk-toggleable__label {cursor: pointer;display: block;width: 100%;margin-bottom: 0;padding: 0.3em;box-sizing: border-box;text-align: center;}#sk-container-id-1 label.sk-toggleable__label-arrow:before {content: \"▸\";float: left;margin-right: 0.25em;color: #696969;}#sk-container-id-1 label.sk-toggleable__label-arrow:hover:before {color: black;}#sk-container-id-1 div.sk-estimator:hover label.sk-toggleable__label-arrow:before {color: black;}#sk-container-id-1 div.sk-toggleable__content {max-height: 0;max-width: 0;overflow: hidden;text-align: left;background-color: #f0f8ff;}#sk-container-id-1 div.sk-toggleable__content pre {margin: 0.2em;color: black;border-radius: 0.25em;background-color: #f0f8ff;}#sk-container-id-1 input.sk-toggleable__control:checked~div.sk-toggleable__content {max-height: 200px;max-width: 100%;overflow: auto;}#sk-container-id-1 input.sk-toggleable__control:checked~label.sk-toggleable__label-arrow:before {content: \"▾\";}#sk-container-id-1 div.sk-estimator input.sk-toggleable__control:checked~label.sk-toggleable__label {background-color: #d4ebff;}#sk-container-id-1 div.sk-label input.sk-toggleable__control:checked~label.sk-toggleable__label {background-color: #d4ebff;}#sk-container-id-1 input.sk-hidden--visually {border: 0;clip: rect(1px 1px 1px 1px);clip: rect(1px, 1px, 1px, 1px);height: 1px;margin: -1px;overflow: hidden;padding: 0;position: absolute;width: 1px;}#sk-container-id-1 div.sk-estimator {font-family: monospace;background-color: #f0f8ff;border: 1px dotted black;border-radius: 0.25em;box-sizing: border-box;margin-bottom: 0.5em;}#sk-container-id-1 div.sk-estimator:hover {background-color: #d4ebff;}#sk-container-id-1 div.sk-parallel-item::after {content: \"\";width: 100%;border-bottom: 1px solid gray;flex-grow: 1;}#sk-container-id-1 div.sk-label:hover label.sk-toggleable__label {background-color: #d4ebff;}#sk-container-id-1 div.sk-serial::before {content: \"\";position: absolute;border-left: 1px solid gray;box-sizing: border-box;top: 0;bottom: 0;left: 50%;z-index: 0;}#sk-container-id-1 div.sk-serial {display: flex;flex-direction: column;align-items: center;background-color: white;padding-right: 0.2em;padding-left: 0.2em;position: relative;}#sk-container-id-1 div.sk-item {position: relative;z-index: 1;}#sk-container-id-1 div.sk-parallel {display: flex;align-items: stretch;justify-content: center;background-color: white;position: relative;}#sk-container-id-1 div.sk-item::before, #sk-container-id-1 div.sk-parallel-item::before {content: \"\";position: absolute;border-left: 1px solid gray;box-sizing: border-box;top: 0;bottom: 0;left: 50%;z-index: -1;}#sk-container-id-1 div.sk-parallel-item {display: flex;flex-direction: column;z-index: 1;position: relative;background-color: white;}#sk-container-id-1 div.sk-parallel-item:first-child::after {align-self: flex-end;width: 50%;}#sk-container-id-1 div.sk-parallel-item:last-child::after {align-self: flex-start;width: 50%;}#sk-container-id-1 div.sk-parallel-item:only-child::after {width: 0;}#sk-container-id-1 div.sk-dashed-wrapped {border: 1px dashed gray;margin: 0 0.4em 0.5em 0.4em;box-sizing: border-box;padding-bottom: 0.4em;background-color: white;}#sk-container-id-1 div.sk-label label {font-family: monospace;font-weight: bold;display: inline-block;line-height: 1.2em;}#sk-container-id-1 div.sk-label-container {text-align: center;}#sk-container-id-1 div.sk-container {/* jupyter's `normalize.less` sets `[hidden] { display: none; }` but bootstrap.min.css set `[hidden] { display: none !important; }` so we also need the `!important` here to be able to override the default hidden behavior on the sphinx rendered scikit-learn.org. See: https://github.com/scikit-learn/scikit-learn/issues/21755 */display: inline-block !important;position: relative;}#sk-container-id-1 div.sk-text-repr-fallback {display: none;}</style><div id=\"sk-container-id-1\" class=\"sk-top-container\"><div class=\"sk-text-repr-fallback\"><pre>LogisticRegression()</pre><b>In a Jupyter environment, please rerun this cell to show the HTML representation or trust the notebook. <br />On GitHub, the HTML representation is unable to render, please try loading this page with nbviewer.org.</b></div><div class=\"sk-container\" hidden><div class=\"sk-item\"><div class=\"sk-estimator sk-toggleable\"><input class=\"sk-toggleable__control sk-hidden--visually\" id=\"sk-estimator-id-1\" type=\"checkbox\" checked><label for=\"sk-estimator-id-1\" class=\"sk-toggleable__label sk-toggleable__label-arrow\">LogisticRegression</label><div class=\"sk-toggleable__content\"><pre>LogisticRegression()</pre></div></div></div></div></div>"
      ],
      "text/plain": [
       "LogisticRegression()"
      ]
     },
     "execution_count": 20,
     "metadata": {},
     "output_type": "execute_result"
    }
   ],
   "source": [
    "# Entrenamiento del modelo de clasificación por regresión logística\n",
    "from sklearn.linear_model import LogisticRegression\n",
    "from sklearn.metrics import classification_report\n",
    "\n",
    "L_G = LogisticRegression()\n",
    "L_G.fit(X_train, y_train)\n"
   ]
  },
  {
   "cell_type": "markdown",
   "metadata": {
    "id": "NV3k8hyQNYoI"
   },
   "source": [
    "#### **3.2.1. Implementación del modelo**\n",
    "\n",
    "En el array obtenido se puede observar las predicciones que hizo el modelo"
   ]
  },
  {
   "cell_type": "code",
   "execution_count": 21,
   "metadata": {
    "colab": {
     "base_uri": "https://localhost:8080/"
    },
    "id": "t1wY0UdAZ_HR",
    "outputId": "6d18518e-d96a-438b-c8c7-92d3c48ada69"
   },
   "outputs": [
    {
     "data": {
      "text/plain": [
       "array([4, 4, 2, 4, 2, 2, 4, 4, 2, 4, 4, 2, 4, 2, 2, 2, 4, 4, 4, 2, 2, 2,\n",
       "       4, 4, 4, 4, 4, 2, 4, 4, 2, 4, 4, 2, 4, 4, 4, 2, 2, 4, 4, 4, 4, 2,\n",
       "       4, 4, 4, 4, 2, 2, 2, 4, 2, 2, 4, 4, 4, 4, 4, 4, 2, 4, 2, 4, 4, 2,\n",
       "       2, 4, 2, 2, 4, 4, 4, 4, 4, 2, 2, 4, 4, 2, 4, 2, 2, 2, 2, 4, 4, 2,\n",
       "       2, 4, 2, 4, 4, 2, 4, 2, 4, 4, 2, 4, 2, 2, 4, 2, 2, 4, 2, 4, 4, 4,\n",
       "       2, 2, 2, 4, 2, 4, 2, 4, 2, 4, 4, 4, 2, 4, 4, 4, 2, 4, 2, 4, 2, 4,\n",
       "       4, 2, 4, 4, 2, 4, 4, 2, 4, 4, 4, 2, 4], dtype=int64)"
      ]
     },
     "execution_count": 21,
     "metadata": {},
     "output_type": "execute_result"
    }
   ],
   "source": [
    "# Aplicación del modelo construido a los datos de test\n",
    "predictions = L_G.predict(X_test)\n",
    "predictions"
   ]
  },
  {
   "cell_type": "markdown",
   "metadata": {},
   "source": [
    "* Detrás de estas predicciones esta la probabilidad de que sea de una clase o la otra, solo que estas probabilidades se filtran por medio de un umbral para al final obtener a que clase pertenece la clasificación."
   ]
  },
  {
   "cell_type": "markdown",
   "metadata": {
    "id": "40B6gA8BNmrW"
   },
   "source": [
    "#### **Accuracy**\n"
   ]
  },
  {
   "cell_type": "code",
   "execution_count": 22,
   "metadata": {
    "colab": {
     "base_uri": "https://localhost:8080/"
    },
    "id": "bb7qTlrNZ_HR",
    "outputId": "52ad5b44-c149-4663-89fa-3db343a4d186"
   },
   "outputs": [
    {
     "data": {
      "text/plain": [
       "0.9517241379310345"
      ]
     },
     "execution_count": 22,
     "metadata": {},
     "output_type": "execute_result"
    }
   ],
   "source": [
    "from sklearn.metrics import accuracy_score\n",
    "\n",
    "accuracy_score(y_test, predictions)"
   ]
  },
  {
   "cell_type": "markdown",
   "metadata": {
    "id": "2SUAQIZmO8Y9"
   },
   "source": [
    "#### **Validaciòn cruzada**\n",
    "\n",
    "En esta etapa final, se evalúa el modelo mediante validación cruzada con 5 folds. Esta técnica proporciona una evaluación más confiable al entrenar y probar el modelo en diferentes subconjuntos de datos. "
   ]
  },
  {
   "cell_type": "code",
   "execution_count": 23,
   "metadata": {
    "colab": {
     "base_uri": "https://localhost:8080/"
    },
    "id": "OLa_DpwfP1BA",
    "outputId": "d33db372-3b8d-430f-ce9d-eff9a94a1a6c"
   },
   "outputs": [
    {
     "name": "stdout",
     "output_type": "stream",
     "text": [
      "Accuracy por fold: [0.98529412 0.95588235 0.98507463 0.97014925 0.94029851]\n",
      "Accuracy promedio: 0.9673397717295874\n"
     ]
    }
   ],
   "source": [
    "from sklearn.model_selection import cross_val_score\n",
    "\n",
    "# Validación cruzada con 5 folds\n",
    "cross = cross_val_score(L_G, X_train, y_train, cv=5, scoring='accuracy')\n",
    "\n",
    "print(\"Accuracy por fold:\", cross)\n",
    "print(\"Accuracy promedio:\", cross.mean())"
   ]
  },
  {
   "cell_type": "markdown",
   "metadata": {
    "id": "1ZdzIaucQ9ju"
   },
   "source": [
    "\n",
    "A partir de los resultados obtenidos mediante la validación cruzada, se destaca un accuracy promedio de 0.955. Este valor refleja la precisión media del modelo a lo largo de las diferentes iteraciones de la validación cruzada. Una puntuación de 0.96 sugiere que, en general, el modelo ha demostrado una capacidad consistente para realizar clasificaciones precisas en el conjunto de entrenamiento."
   ]
  },
  {
   "cell_type": "markdown",
   "metadata": {},
   "source": [
    "#### **Matriz de confusión**"
   ]
  },
  {
   "cell_type": "code",
   "execution_count": 25,
   "metadata": {},
   "outputs": [
    {
     "data": {
      "text/plain": [
       "array([[57,  4],\n",
       "       [ 3, 81]], dtype=int64)"
      ]
     },
     "execution_count": 25,
     "metadata": {},
     "output_type": "execute_result"
    },
    {
     "data": {
      "image/png": "[encoded data removed]",
      "text/plain": [
       "<Figure size 800x600 with 2 Axes>"
      ]
     },
     "metadata": {},
     "output_type": "display_data"
    }
   ],
   "source": [
    "\n",
    "import matplotlib.pyplot as plt\n",
    "import seaborn as sns\n",
    "from sklearn.metrics import confusion_matrix\n",
    "\n",
    "CM = confusion_matrix(y_test, predictions)\n",
    "\n",
    "plt.figure(figsize=(8, 6))\n",
    "sns.heatmap(CM, annot=True, cmap=\"Blues\", fmt=\"d\", xticklabels=['Benigno', 'Maligno'], \n",
    "            yticklabels=['Benigno', 'Maligno'])\n",
    "plt.xlabel('Predicción')\n",
    "plt.ylabel('Valor Real')\n",
    "plt.title('Matriz de Confusión')\n",
    "\n",
    "CM\n"
   ]
  },
  {
   "cell_type": "code",
   "execution_count": 28,
   "metadata": {},
   "outputs": [
    {
     "name": "stdout",
     "output_type": "stream",
     "text": [
      "              precision    recall  f1-score   support\n",
      "\n",
      "           2       0.95      0.93      0.94        61\n",
      "           4       0.95      0.96      0.96        84\n",
      "\n",
      "    accuracy                           0.95       145\n",
      "   macro avg       0.95      0.95      0.95       145\n",
      "weighted avg       0.95      0.95      0.95       145\n",
      "\n"
     ]
    }
   ],
   "source": [
    "from sklearn.metrics import classification_report\n",
    "\n",
    "report = classification_report(y_test, predictions)\n",
    "print(report)"
   ]
  },
  {
   "cell_type": "markdown",
   "metadata": {},
   "source": [
    "### **3.3. Entrenamiento e implementación del modelo de clasificación SVM**"
   ]
  },
  {
   "cell_type": "code",
   "execution_count": 30,
   "metadata": {},
   "outputs": [
    {
     "name": "stdout",
     "output_type": "stream",
     "text": [
      "Reporte de clasificación para SVM:\n",
      "               precision    recall  f1-score   support\n",
      "\n",
      "           2       0.98      0.89      0.93        61\n",
      "           4       0.92      0.99      0.95        84\n",
      "\n",
      "    accuracy                           0.94       145\n",
      "   macro avg       0.95      0.94      0.94       145\n",
      "weighted avg       0.95      0.94      0.94       145\n",
      "\n"
     ]
    }
   ],
   "source": [
    "from sklearn.svm import SVC\n",
    "\n",
    "svm = SVC()\n",
    "svm.fit(X_train, y_train)\n",
    "svm_pre = svm.predict(X_test)\n",
    "svm_re = classification_report(y_test, svm_pre)\n",
    "print(\"Reporte de clasificación para SVM:\\n\", svm_re)"
   ]
  },
  {
   "cell_type": "code",
   "execution_count": 32,
   "metadata": {},
   "outputs": [
    {
     "data": {
      "text/plain": [
       "array([[54,  7],\n",
       "       [ 1, 83]], dtype=int64)"
      ]
     },
     "execution_count": 32,
     "metadata": {},
     "output_type": "execute_result"
    }
   ],
   "source": [
    "CM1 = confusion_matrix(y_test, svm_pre)\n",
    "CM1\n"
   ]
  },
  {
   "cell_type": "markdown",
   "metadata": {},
   "source": [
    "### **3.4. Entrenamiento e implementación del modelo de clasificación RF**"
   ]
  },
  {
   "cell_type": "code",
   "execution_count": 36,
   "metadata": {},
   "outputs": [
    {
     "name": "stdout",
     "output_type": "stream",
     "text": [
      "Reporte de clasificación para Random Forest:\n",
      "               precision    recall  f1-score   support\n",
      "\n",
      "           2       0.95      0.92      0.93        61\n",
      "           4       0.94      0.96      0.95        84\n",
      "\n",
      "    accuracy                           0.94       145\n",
      "   macro avg       0.95      0.94      0.94       145\n",
      "weighted avg       0.94      0.94      0.94       145\n",
      "\n"
     ]
    }
   ],
   "source": [
    "from sklearn.ensemble import RandomForestClassifier\n",
    "\n",
    "RF= RandomForestClassifier()\n",
    "RF.fit(X_train, y_train)\n",
    "RF_pre = RF.predict(X_test)\n",
    "\n",
    "RF_re= classification_report(y_test, RF_pre)\n",
    "print(\"Reporte de clasificación para Random Forest:\\n\", RF_re)"
   ]
  },
  {
   "cell_type": "code",
   "execution_count": 35,
   "metadata": {},
   "outputs": [
    {
     "data": {
      "text/plain": [
       "array([[56,  5],\n",
       "       [ 5, 79]], dtype=int64)"
      ]
     },
     "execution_count": 35,
     "metadata": {},
     "output_type": "execute_result"
    }
   ],
   "source": [
    "CM2 = confusion_matrix(y_test, RF_pre)\n",
    "CM2"
   ]
  },
  {
   "cell_type": "markdown",
   "metadata": {},
   "source": [
    "## **4. Análisis de resultados**"
   ]
  },
  {
   "cell_type": "markdown",
   "metadata": {},
   "source": [
    "* Con la regresión Logística se obtuvo el mejor desempeño. La regresión logística es particularmente efectiva para problemas de clasificación binaria y variables predictoras categóricas ordinales, como en este caso. Su capacidad para modelar probabilidades y su simplicidad en la interpretación hacen que sea adecuado para identificar relaciones entre las variables predictoras y la variable objetivo. La combinación de estos factores probablemente contribuyó a su alto rendimiento en este problema.\n",
    "\n",
    "* El SVM se desempeñó bien, especialmente en la clasificación de tumores malignos. El SVM es conocido por su capacidad para encontrar un hiperplano óptimo que maximiza la separación entre las clases. En casos donde los datos son bien separables en el espacio de características, el SVM puede ofrecer un rendimiento robusto. Sin embargo, su rendimiento puede ser sensible a la selección de parámetros y al tipo de kernel utilizado, lo cual puede explicar por qué no superó a la regresión logística en este caso.\n",
    "\n",
    "* Aunque el Random Forest no fue el mejor modelo, todavía produjo resultados aceptables. El RF es un método de ensamble que construye múltiples árboles de decisión y combina sus resultados para mejorar la precisión y reducir el riesgo de sobreajuste. Sin embargo, su naturaleza aleatoria puede introducir variabilidad en el rendimiento y la interpretación de los resultados puede ser menos clara comparada con la regresión logística y SVM. Además, el RF puede requerir una optimización más cuidadosa de los hiperparámetros y de la organización de las variables en los árboles para alcanzar su máximo potencial."
   ]
  }
 ],
 "metadata": {
  "colab": {
   "provenance": []
  },
  "kernelspec": {
   "display_name": "Python 3 (ipykernel)",
   "language": "python",
   "name": "python3"
  },
  "language_info": {
   "codemirror_mode": {
    "name": "ipython",
    "version": 3
   },
   "file_extension": ".py",
   "mimetype": "text/x-python",
   "name": "python",
   "nbconvert_exporter": "python",
   "pygments_lexer": "ipython3",
   "version": "3.11.7"
  }
 },
 "nbformat": 4,
 "nbformat_minor": 4
}
